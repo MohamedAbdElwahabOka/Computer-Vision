{
 "cells": [
  {
   "cell_type": "code",
   "execution_count": 1,
   "id": "4087194c",
   "metadata": {},
   "outputs": [
    {
     "name": "stdout",
     "output_type": "stream",
     "text": [
      "Requirement already satisfied: opencv-python in c:\\users\\mohamed\\anaconda3\\lib\\site-packages (4.8.1.78)\n",
      "Requirement already satisfied: numpy>=1.17.3 in c:\\users\\mohamed\\anaconda3\\lib\\site-packages (from opencv-python) (1.23.5)\n"
     ]
    }
   ],
   "source": [
    "!pip install opencv-python"
   ]
  },
  {
   "cell_type": "code",
   "execution_count": 6,
   "id": "324c73b9",
   "metadata": {},
   "outputs": [],
   "source": [
    "import cv2"
   ]
  },
  {
   "cell_type": "code",
   "execution_count": 7,
   "id": "1f7642ef",
   "metadata": {},
   "outputs": [],
   "source": [
    "img = cv2.imread(\"./apple.jpg\",0)"
   ]
  },
  {
   "cell_type": "code",
   "execution_count": 8,
   "id": "6d52836c",
   "metadata": {},
   "outputs": [
    {
     "name": "stdout",
     "output_type": "stream",
     "text": [
      "4.8.1\n"
     ]
    }
   ],
   "source": [
    "print(cv2.__version__) "
   ]
  },
  {
   "cell_type": "code",
   "execution_count": 9,
   "id": "9586b389",
   "metadata": {},
   "outputs": [
    {
     "name": "stdout",
     "output_type": "stream",
     "text": [
      "[[118 115 105 ... 165 157 166]\n",
      " [108 106 103 ... 162 159 165]\n",
      " [110 114 110 ... 160 161 163]\n",
      " ...\n",
      " [132 137 139 ... 120 122 124]\n",
      " [137 141 148 ... 123 121 127]\n",
      " [141 135 142 ... 140 137 132]]\n"
     ]
    }
   ],
   "source": [
    "print(img)"
   ]
  },
  {
   "cell_type": "code",
   "execution_count": 12,
   "id": "db1c7042",
   "metadata": {},
   "outputs": [],
   "source": [
    "cv2.imshow('image', img)\n",
    "k = cv2.waitKey(0)\n",
    "\n",
    "if k == 27: #esc in keyboard\n",
    "  cv2.destroyAllWindows() #close the window   \n",
    "\n",
    "elif k == ord('s'): #if order is s save the image\n",
    "  cv2.imwrite('lena_copy.png', img) #write image in your pc     \n",
    "  cv2.destroyAllWindows() # close the window "
   ]
  },
  {
   "cell_type": "code",
   "execution_count": null,
   "id": "dc5d569e",
   "metadata": {},
   "outputs": [],
   "source": []
  }
 ],
 "metadata": {
  "kernelspec": {
   "display_name": "Python 3 (ipykernel)",
   "language": "python",
   "name": "python3"
  },
  "language_info": {
   "codemirror_mode": {
    "name": "ipython",
    "version": 3
   },
   "file_extension": ".py",
   "mimetype": "text/x-python",
   "name": "python",
   "nbconvert_exporter": "python",
   "pygments_lexer": "ipython3",
   "version": "3.9.13"
  }
 },
 "nbformat": 4,
 "nbformat_minor": 5
}
