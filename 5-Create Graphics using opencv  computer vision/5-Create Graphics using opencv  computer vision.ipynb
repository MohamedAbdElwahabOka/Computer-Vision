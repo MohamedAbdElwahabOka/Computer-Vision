{
 "cells": [
  {
   "cell_type": "code",
   "execution_count": 19,
   "id": "0a219c5b",
   "metadata": {},
   "outputs": [],
   "source": [
    "import cv2\n",
    "import numpy as np \n"
   ]
  },
  {
   "cell_type": "code",
   "execution_count": 31,
   "id": "a61ac59c",
   "metadata": {},
   "outputs": [],
   "source": [
    "img = np.zeros((600, 900, 3), np.uint8) \n"
   ]
  },
  {
   "cell_type": "code",
   "execution_count": 35,
   "id": "f6a95407",
   "metadata": {},
   "outputs": [
    {
     "data": {
      "text/plain": [
       "array([[[255, 225,  85],\n",
       "        [255, 225,  85],\n",
       "        [255, 225,  85],\n",
       "        ...,\n",
       "        [255, 225,  85],\n",
       "        [255, 225,  85],\n",
       "        [255, 225,  85]],\n",
       "\n",
       "       [[255, 225,  85],\n",
       "        [255, 225,  85],\n",
       "        [255, 225,  85],\n",
       "        ...,\n",
       "        [255, 225,  85],\n",
       "        [255, 225,  85],\n",
       "        [255, 225,  85]],\n",
       "\n",
       "       [[255, 225,  85],\n",
       "        [255, 225,  85],\n",
       "        [255, 225,  85],\n",
       "        ...,\n",
       "        [255, 225,  85],\n",
       "        [255, 225,  85],\n",
       "        [255, 225,  85]],\n",
       "\n",
       "       ...,\n",
       "\n",
       "       [[ 75, 180,  70],\n",
       "        [ 75, 180,  70],\n",
       "        [ 75, 180,  70],\n",
       "        ...,\n",
       "        [ 75, 180,  70],\n",
       "        [ 75, 180,  70],\n",
       "        [ 75, 180,  70]],\n",
       "\n",
       "       [[ 75, 180,  70],\n",
       "        [ 75, 180,  70],\n",
       "        [ 75, 180,  70],\n",
       "        ...,\n",
       "        [ 75, 180,  70],\n",
       "        [ 75, 180,  70],\n",
       "        [ 75, 180,  70]],\n",
       "\n",
       "       [[ 75, 180,  70],\n",
       "        [ 75, 180,  70],\n",
       "        [ 75, 180,  70],\n",
       "        ...,\n",
       "        [ 75, 180,  70],\n",
       "        [ 75, 180,  70],\n",
       "        [ 75, 180,  70]]], dtype=uint8)"
      ]
     },
     "execution_count": 35,
     "metadata": {},
     "output_type": "execute_result"
    }
   ],
   "source": [
    "cv2.rectangle(img, (0,0),(900,500),(255,225,85), -1) #draw rectangle\n",
    "cv2.rectangle(img, (0,500),(900,600),(75,180,70), -1) #draw rectangle\n",
    "\n",
    "\n",
    "cv2.circle(img, (200,150), 60, (0,255,255), -1) #draw circle\n",
    "cv2.circle(img, (200,150), 75, (220,255,255), 10) #draw circle\n",
    "\n",
    "cv2.line(img, (710, 500), (710, 420), (30,65,155), 15) #darw line\n",
    "\n",
    "triangle2 = np.array([[640,460],[780,460], [710,200]], dtype=np.int32) #array to darw fillpoly\n",
    "cv2.fillPoly(img, [triangle2], (75,180,70))\n",
    "\n",
    "font = cv2.FONT_HERSHEY_SCRIPT_SIMPLEX #text type\n",
    "\n",
    "cv2.putText(img, \"i love Milo\", (120,490), font, 1.5, (255,255,255), 2) #write text on image"
   ]
  },
  {
   "cell_type": "code",
   "execution_count": 36,
   "id": "011aae20",
   "metadata": {},
   "outputs": [],
   "source": [
    "cv2.imshow(\"tree\", img) #show image\n",
    "cv2.waitKey(0) #waitkey from keyboard\n",
    "cv2.destroyAllWindows() #close any opened window"
   ]
  },
  {
   "cell_type": "code",
   "execution_count": null,
   "id": "3fa57596",
   "metadata": {},
   "outputs": [],
   "source": []
  }
 ],
 "metadata": {
  "kernelspec": {
   "display_name": "Python 3 (ipykernel)",
   "language": "python",
   "name": "python3"
  },
  "language_info": {
   "codemirror_mode": {
    "name": "ipython",
    "version": 3
   },
   "file_extension": ".py",
   "mimetype": "text/x-python",
   "name": "python",
   "nbconvert_exporter": "python",
   "pygments_lexer": "ipython3",
   "version": "3.9.13"
  }
 },
 "nbformat": 4,
 "nbformat_minor": 5
}
