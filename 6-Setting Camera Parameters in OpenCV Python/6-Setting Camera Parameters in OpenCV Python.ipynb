{
 "cells": [
  {
   "cell_type": "code",
   "execution_count": 9,
   "id": "efe72653",
   "metadata": {},
   "outputs": [],
   "source": [
    "import cv2"
   ]
  },
  {
   "cell_type": "code",
   "execution_count": 10,
   "id": "4dd006ee",
   "metadata": {},
   "outputs": [
    {
     "ename": "SyntaxError",
     "evalue": "invalid syntax (2058139060.py, line 15)",
     "output_type": "error",
     "traceback": [
      "\u001b[1;36m  File \u001b[1;32m\"C:\\Users\\mohamed\\AppData\\Local\\Temp\\ipykernel_25164\\2058139060.py\"\u001b[1;36m, line \u001b[1;32m15\u001b[0m\n\u001b[1;33m    cv2.imshow('frame', gray)\u001b[0m\n\u001b[1;37m    ^\u001b[0m\n\u001b[1;31mSyntaxError\u001b[0m\u001b[1;31m:\u001b[0m invalid syntax\n"
     ]
    }
   ],
   "source": [
    "\n",
    "cap = cv2.VideoCapture(1)\n",
    "print(cap.get(cv2.CAP_PROP_FRAME_WIDTH))\n",
    "print(cap.get(cv2.CAP_PROP_FRAME_HEIGHT))\n",
    "\n",
    "cap.set(3, 720) #set your frame width\n",
    "cap.set(4, 1500) #set your frame height\n",
    "\n",
    "print(cap.get(3)) #get your frame width\n",
    "print(cap.get(4)) #get your frame height\n",
    "\n",
    "while(cap.isOpened()):#while camera is open\n",
    "    ret, frame = cap.read()#read frames        \n",
    "    if ret == True: #still there is a frame to process        \n",
    "        gray = cv2.cvtColor(frame, cv2.COLOR_BGR2GRAY                 \n",
    "        cv2.imshow('frame', gray)                 \n",
    "               if cv2.waitKey(1) & 0xFF == ord('q'):#wait key from keyboard                 \n",
    "         break                     \n",
    "    else: #if ret=false         \n",
    "        break              \n",
    "\n",
    "cap.release()#close camera\n",
    "cv2.destroyAllWindows()#close window"
   ]
  },
  {
   "cell_type": "code",
   "execution_count": null,
   "id": "5d977abd",
   "metadata": {},
   "outputs": [],
   "source": []
  }
 ],
 "metadata": {
  "kernelspec": {
   "display_name": "Python 3 (ipykernel)",
   "language": "python",
   "name": "python3"
  },
  "language_info": {
   "codemirror_mode": {
    "name": "ipython",
    "version": 3
   },
   "file_extension": ".py",
   "mimetype": "text/x-python",
   "name": "python",
   "nbconvert_exporter": "python",
   "pygments_lexer": "ipython3",
   "version": "3.9.13"
  }
 },
 "nbformat": 4,
 "nbformat_minor": 5
}
