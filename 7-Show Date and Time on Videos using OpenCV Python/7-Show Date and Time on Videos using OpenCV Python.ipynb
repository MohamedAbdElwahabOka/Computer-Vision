{
 "cells": [
  {
   "cell_type": "code",
   "execution_count": 1,
   "id": "30e5443a",
   "metadata": {},
   "outputs": [],
   "source": [
    "import cv2\n",
    "import datetime"
   ]
  },
  {
   "cell_type": "code",
   "execution_count": 2,
   "id": "8306f638",
   "metadata": {},
   "outputs": [],
   "source": [
    "cap = cv2.VideoCapture(1) #from iphone cam through camo stadio"
   ]
  },
  {
   "cell_type": "code",
   "execution_count": 4,
   "id": "abfbabff",
   "metadata": {},
   "outputs": [
    {
     "name": "stdout",
     "output_type": "stream",
     "text": [
      "1280.0\n",
      "720.0\n"
     ]
    }
   ],
   "source": [
    "cap.set(3, 1000)  #WIDTH\n",
    "cap.set(4, 1080)   #HEIGHT\n",
    "print(cap.get(3))\n",
    "print(cap.get(4))"
   ]
  },
  {
   "cell_type": "code",
   "execution_count": 9,
   "id": "87b74625",
   "metadata": {},
   "outputs": [],
   "source": [
    "while(cap.isOpened()):\n",
    "    ret,frame = cap.read()\n",
    "    if ret == True:\n",
    "        font = cv2.FONT_HERSHEY_SIMPLEX\n",
    "        text_that_shown_in_screen= 'Width: '+ str(cap.get(3)) + ' Height:' + str(cap.get(4))\n",
    "        date = str(datetime.datetime.now())\n",
    "        frame = cv2.putText(frame, text_that_shown_in_screen, (10, 50), font, 1,             \n",
    "                           (0, 255, 255), 2)\n",
    "        frame = cv2.putText(frame, date, (10, 100), font, 1,             \n",
    "                           (0, 255, 255), 2)  \n",
    "        cv2.imshow(\"frame With Date,time,width and Height\",frame)\n",
    "        if cv2.waitKey(1) & 0xFF == ord('q'):#wait key from keyboard                 \n",
    "         break                     \n",
    "    else: #if ret=false         \n",
    "        break              \n",
    "\n",
    "cap.release()#close camera\n",
    "cv2.destroyAllWindows()#close window\n",
    "        \n",
    "        \n",
    "        "
   ]
  }
 ],
 "metadata": {
  "kernelspec": {
   "display_name": "Python 3 (ipykernel)",
   "language": "python",
   "name": "python3"
  },
  "language_info": {
   "codemirror_mode": {
    "name": "ipython",
    "version": 3
   },
   "file_extension": ".py",
   "mimetype": "text/x-python",
   "name": "python",
   "nbconvert_exporter": "python",
   "pygments_lexer": "ipython3",
   "version": "3.9.13"
  }
 },
 "nbformat": 4,
 "nbformat_minor": 5
}
